{
  "nbformat": 4,
  "nbformat_minor": 0,
  "metadata": {
    "colab": {
      "provenance": []
    },
    "kernelspec": {
      "name": "python3",
      "display_name": "Python 3"
    },
    "language_info": {
      "name": "python"
    }
  },
  "cells": [
    {
      "cell_type": "code",
      "execution_count": null,
      "metadata": {
        "colab": {
          "base_uri": "https://localhost:8080/"
        },
        "id": "zBIQMxR71omS",
        "outputId": "1cf03513-c1a3-4bf0-8c71-ec32d5855510"
      },
      "outputs": [
        {
          "output_type": "stream",
          "name": "stdout",
          "text": [
            "        and     brown       dog      fast       fox        is      jump  \\\n",
            "0  0.000000  0.314017  0.314017  0.000000  0.314017  0.000000  0.000000   \n",
            "1  0.000000  0.000000  0.337295  0.000000  0.000000  0.000000  0.443503   \n",
            "2  0.382942  0.291237  0.000000  0.382942  0.291237  0.382942  0.000000   \n",
            "\n",
            "      jumps      lazy     never      over     quick   quickly       the  \n",
            "0  0.412895  0.314017  0.000000  0.314017  0.314017  0.000000  0.487725  \n",
            "1  0.000000  0.337295  0.443503  0.337295  0.000000  0.443503  0.261940  \n",
            "2  0.000000  0.000000  0.000000  0.000000  0.582474  0.000000  0.226171  \n"
          ]
        }
      ],
      "source": [
        "from sklearn.feature_extraction.text import TfidfVectorizer\n",
        "import pandas as pd\n",
        "\n",
        "# Sample documents\n",
        "documents = [\n",
        "    \"The quick brown fox jumps over the lazy dog.\",\n",
        "    \"Never jump over the lazy dog quickly.\",\n",
        "    \"The quick brown fox is quick and fast.\"\n",
        "]\n",
        "\n",
        "# Initialize the TF-IDF Vectorizer\n",
        "vectorizer = TfidfVectorizer()\n",
        "\n",
        "# Fit and transform the data\n",
        "tfidf_matrix = vectorizer.fit_transform(documents)\n",
        "\n",
        "# Convert to dense matrix\n",
        "tfidf_dense = tfidf_matrix.todense()\n",
        "\n",
        "# Get feature names\n",
        "feature_names = vectorizer.get_feature_names_out()\n",
        "\n",
        "# Create a DataFrame\n",
        "df = pd.DataFrame(tfidf_dense, columns=feature_names)\n",
        "print(df)\n"
      ]
    }
  ]
}